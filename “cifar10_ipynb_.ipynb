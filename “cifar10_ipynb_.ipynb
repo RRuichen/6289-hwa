{
  "nbformat": 4,
  "nbformat_minor": 0,
  "metadata": {
    "colab": {
      "name": "“cifar10.ipynb\"",
      "provenance": [],
      "collapsed_sections": [],
      "toc_visible": true
    },
    "kernelspec": {
      "name": "python3",
      "display_name": "Python 3"
    },
    "language_info": {
      "name": "python"
    },
    "widgets": {
      "application/vnd.jupyter.widget-state+json": {
        "5d71b0d568d14f978b98c759f805348c": {
          "model_module": "@jupyter-widgets/controls",
          "model_name": "HBoxModel",
          "model_module_version": "1.5.0",
          "state": {
            "_view_name": "HBoxView",
            "_dom_classes": [],
            "_model_name": "HBoxModel",
            "_view_module": "@jupyter-widgets/controls",
            "_model_module_version": "1.5.0",
            "_view_count": null,
            "_view_module_version": "1.5.0",
            "box_style": "",
            "layout": "IPY_MODEL_54677e6205bc40e99e4032d127fee5ee",
            "_model_module": "@jupyter-widgets/controls",
            "children": [
              "IPY_MODEL_7ce9fd954ea3432aba50a458d9b8f4b0",
              "IPY_MODEL_975b850a731f45f49a93306df24c4a8d",
              "IPY_MODEL_45d1ad05c5fe4297a8108c1d10015b4b"
            ]
          }
        },
        "54677e6205bc40e99e4032d127fee5ee": {
          "model_module": "@jupyter-widgets/base",
          "model_name": "LayoutModel",
          "model_module_version": "1.2.0",
          "state": {
            "_view_name": "LayoutView",
            "grid_template_rows": null,
            "right": null,
            "justify_content": null,
            "_view_module": "@jupyter-widgets/base",
            "overflow": null,
            "_model_module_version": "1.2.0",
            "_view_count": null,
            "flex_flow": null,
            "width": null,
            "min_width": null,
            "border": null,
            "align_items": null,
            "bottom": null,
            "_model_module": "@jupyter-widgets/base",
            "top": null,
            "grid_column": null,
            "overflow_y": null,
            "overflow_x": null,
            "grid_auto_flow": null,
            "grid_area": null,
            "grid_template_columns": null,
            "flex": null,
            "_model_name": "LayoutModel",
            "justify_items": null,
            "grid_row": null,
            "max_height": null,
            "align_content": null,
            "visibility": null,
            "align_self": null,
            "height": null,
            "min_height": null,
            "padding": null,
            "grid_auto_rows": null,
            "grid_gap": null,
            "max_width": null,
            "order": null,
            "_view_module_version": "1.2.0",
            "grid_template_areas": null,
            "object_position": null,
            "object_fit": null,
            "grid_auto_columns": null,
            "margin": null,
            "display": null,
            "left": null
          }
        },
        "7ce9fd954ea3432aba50a458d9b8f4b0": {
          "model_module": "@jupyter-widgets/controls",
          "model_name": "HTMLModel",
          "model_module_version": "1.5.0",
          "state": {
            "_view_name": "HTMLView",
            "style": "IPY_MODEL_77ba5b1f68a84771ba6b9f7ccbff70e9",
            "_dom_classes": [],
            "description": "",
            "_model_name": "HTMLModel",
            "placeholder": "​",
            "_view_module": "@jupyter-widgets/controls",
            "_model_module_version": "1.5.0",
            "value": "",
            "_view_count": null,
            "_view_module_version": "1.5.0",
            "description_tooltip": null,
            "_model_module": "@jupyter-widgets/controls",
            "layout": "IPY_MODEL_19c1e5090ac14bcabd2d7f07faf5d3e6"
          }
        },
        "975b850a731f45f49a93306df24c4a8d": {
          "model_module": "@jupyter-widgets/controls",
          "model_name": "FloatProgressModel",
          "model_module_version": "1.5.0",
          "state": {
            "_view_name": "ProgressView",
            "style": "IPY_MODEL_f43cd5768c584e35ad6870d951684f34",
            "_dom_classes": [],
            "description": "",
            "_model_name": "FloatProgressModel",
            "bar_style": "success",
            "max": 170498071,
            "_view_module": "@jupyter-widgets/controls",
            "_model_module_version": "1.5.0",
            "value": 170498071,
            "_view_count": null,
            "_view_module_version": "1.5.0",
            "orientation": "horizontal",
            "min": 0,
            "description_tooltip": null,
            "_model_module": "@jupyter-widgets/controls",
            "layout": "IPY_MODEL_3403c1481f5649e3817a866eb42eda17"
          }
        },
        "45d1ad05c5fe4297a8108c1d10015b4b": {
          "model_module": "@jupyter-widgets/controls",
          "model_name": "HTMLModel",
          "model_module_version": "1.5.0",
          "state": {
            "_view_name": "HTMLView",
            "style": "IPY_MODEL_14aaeac205f649b2a7e6c285254152c7",
            "_dom_classes": [],
            "description": "",
            "_model_name": "HTMLModel",
            "placeholder": "​",
            "_view_module": "@jupyter-widgets/controls",
            "_model_module_version": "1.5.0",
            "value": " 170499072/? [00:11&lt;00:00, 17466313.04it/s]",
            "_view_count": null,
            "_view_module_version": "1.5.0",
            "description_tooltip": null,
            "_model_module": "@jupyter-widgets/controls",
            "layout": "IPY_MODEL_c8ca932170db40bcadd07a89539e6fee"
          }
        },
        "77ba5b1f68a84771ba6b9f7ccbff70e9": {
          "model_module": "@jupyter-widgets/controls",
          "model_name": "DescriptionStyleModel",
          "model_module_version": "1.5.0",
          "state": {
            "_view_name": "StyleView",
            "_model_name": "DescriptionStyleModel",
            "description_width": "",
            "_view_module": "@jupyter-widgets/base",
            "_model_module_version": "1.5.0",
            "_view_count": null,
            "_view_module_version": "1.2.0",
            "_model_module": "@jupyter-widgets/controls"
          }
        },
        "19c1e5090ac14bcabd2d7f07faf5d3e6": {
          "model_module": "@jupyter-widgets/base",
          "model_name": "LayoutModel",
          "model_module_version": "1.2.0",
          "state": {
            "_view_name": "LayoutView",
            "grid_template_rows": null,
            "right": null,
            "justify_content": null,
            "_view_module": "@jupyter-widgets/base",
            "overflow": null,
            "_model_module_version": "1.2.0",
            "_view_count": null,
            "flex_flow": null,
            "width": null,
            "min_width": null,
            "border": null,
            "align_items": null,
            "bottom": null,
            "_model_module": "@jupyter-widgets/base",
            "top": null,
            "grid_column": null,
            "overflow_y": null,
            "overflow_x": null,
            "grid_auto_flow": null,
            "grid_area": null,
            "grid_template_columns": null,
            "flex": null,
            "_model_name": "LayoutModel",
            "justify_items": null,
            "grid_row": null,
            "max_height": null,
            "align_content": null,
            "visibility": null,
            "align_self": null,
            "height": null,
            "min_height": null,
            "padding": null,
            "grid_auto_rows": null,
            "grid_gap": null,
            "max_width": null,
            "order": null,
            "_view_module_version": "1.2.0",
            "grid_template_areas": null,
            "object_position": null,
            "object_fit": null,
            "grid_auto_columns": null,
            "margin": null,
            "display": null,
            "left": null
          }
        },
        "f43cd5768c584e35ad6870d951684f34": {
          "model_module": "@jupyter-widgets/controls",
          "model_name": "ProgressStyleModel",
          "model_module_version": "1.5.0",
          "state": {
            "_view_name": "StyleView",
            "_model_name": "ProgressStyleModel",
            "description_width": "",
            "_view_module": "@jupyter-widgets/base",
            "_model_module_version": "1.5.0",
            "_view_count": null,
            "_view_module_version": "1.2.0",
            "bar_color": null,
            "_model_module": "@jupyter-widgets/controls"
          }
        },
        "3403c1481f5649e3817a866eb42eda17": {
          "model_module": "@jupyter-widgets/base",
          "model_name": "LayoutModel",
          "model_module_version": "1.2.0",
          "state": {
            "_view_name": "LayoutView",
            "grid_template_rows": null,
            "right": null,
            "justify_content": null,
            "_view_module": "@jupyter-widgets/base",
            "overflow": null,
            "_model_module_version": "1.2.0",
            "_view_count": null,
            "flex_flow": null,
            "width": null,
            "min_width": null,
            "border": null,
            "align_items": null,
            "bottom": null,
            "_model_module": "@jupyter-widgets/base",
            "top": null,
            "grid_column": null,
            "overflow_y": null,
            "overflow_x": null,
            "grid_auto_flow": null,
            "grid_area": null,
            "grid_template_columns": null,
            "flex": null,
            "_model_name": "LayoutModel",
            "justify_items": null,
            "grid_row": null,
            "max_height": null,
            "align_content": null,
            "visibility": null,
            "align_self": null,
            "height": null,
            "min_height": null,
            "padding": null,
            "grid_auto_rows": null,
            "grid_gap": null,
            "max_width": null,
            "order": null,
            "_view_module_version": "1.2.0",
            "grid_template_areas": null,
            "object_position": null,
            "object_fit": null,
            "grid_auto_columns": null,
            "margin": null,
            "display": null,
            "left": null
          }
        },
        "14aaeac205f649b2a7e6c285254152c7": {
          "model_module": "@jupyter-widgets/controls",
          "model_name": "DescriptionStyleModel",
          "model_module_version": "1.5.0",
          "state": {
            "_view_name": "StyleView",
            "_model_name": "DescriptionStyleModel",
            "description_width": "",
            "_view_module": "@jupyter-widgets/base",
            "_model_module_version": "1.5.0",
            "_view_count": null,
            "_view_module_version": "1.2.0",
            "_model_module": "@jupyter-widgets/controls"
          }
        },
        "c8ca932170db40bcadd07a89539e6fee": {
          "model_module": "@jupyter-widgets/base",
          "model_name": "LayoutModel",
          "model_module_version": "1.2.0",
          "state": {
            "_view_name": "LayoutView",
            "grid_template_rows": null,
            "right": null,
            "justify_content": null,
            "_view_module": "@jupyter-widgets/base",
            "overflow": null,
            "_model_module_version": "1.2.0",
            "_view_count": null,
            "flex_flow": null,
            "width": null,
            "min_width": null,
            "border": null,
            "align_items": null,
            "bottom": null,
            "_model_module": "@jupyter-widgets/base",
            "top": null,
            "grid_column": null,
            "overflow_y": null,
            "overflow_x": null,
            "grid_auto_flow": null,
            "grid_area": null,
            "grid_template_columns": null,
            "flex": null,
            "_model_name": "LayoutModel",
            "justify_items": null,
            "grid_row": null,
            "max_height": null,
            "align_content": null,
            "visibility": null,
            "align_self": null,
            "height": null,
            "min_height": null,
            "padding": null,
            "grid_auto_rows": null,
            "grid_gap": null,
            "max_width": null,
            "order": null,
            "_view_module_version": "1.2.0",
            "grid_template_areas": null,
            "object_position": null,
            "object_fit": null,
            "grid_auto_columns": null,
            "margin": null,
            "display": null,
            "left": null
          }
        }
      }
    }
  },
  "cells": [
    {
      "cell_type": "markdown",
      "source": [
        "#Training an image classifier\n",
        "We will do the following steps in order:\n",
        "\n",
        "Load and normalize the CIFAR10 training and test datasets using torchvision\n",
        "\n",
        "Define a Convolutional Neural Network\n",
        "\n",
        "Define a loss function\n",
        "\n",
        "Train the network on the training data\n",
        "\n",
        "Test the network on the test data"
      ],
      "metadata": {
        "id": "rxWtVxMx9KCA"
      }
    },
    {
      "cell_type": "markdown",
      "source": [
        "***Load and normalize CIFAR10****"
      ],
      "metadata": {
        "id": "ROFhtOCS9Lj2"
      }
    },
    {
      "cell_type": "code",
      "source": [
        "import torch\n",
        "import torchvision\n",
        "import torchvision.transforms as transforms"
      ],
      "metadata": {
        "id": "nyOeFteW9NAb"
      },
      "execution_count": 3,
      "outputs": []
    },
    {
      "cell_type": "markdown",
      "source": [
        "The output of torchvision datasets are PILImage images of range [0, 1]. We transform them to Tensors of normalized range [-1, 1]."
      ],
      "metadata": {
        "id": "sy_KDpjR9xF9"
      }
    },
    {
      "cell_type": "code",
      "source": [
        "transform = transforms.Compose(\n",
        "    [transforms.ToTensor(),\n",
        "     transforms.Normalize((0.5, 0.5, 0.5), (0.5, 0.5, 0.5))])\n",
        "\n",
        "batch_size = 4\n",
        "\n",
        "trainset = torchvision.datasets.CIFAR10(root='./data', train=True,\n",
        "                                        download=True, transform=transform)\n",
        "trainloader = torch.utils.data.DataLoader(trainset, batch_size=batch_size,\n",
        "                                          shuffle=True, num_workers=2)\n",
        "\n",
        "testset = torchvision.datasets.CIFAR10(root='./data', train=False,\n",
        "                                       download=True, transform=transform)\n",
        "testloader = torch.utils.data.DataLoader(testset, batch_size=batch_size,\n",
        "                                         shuffle=False, num_workers=2)\n",
        "\n",
        "classes = ('plane', 'car', 'bird', 'cat',\n",
        "           'deer', 'dog', 'frog', 'horse', 'ship', 'truck')"
      ],
      "metadata": {
        "colab": {
          "base_uri": "https://localhost:8080/",
          "height": 101,
          "referenced_widgets": [
            "5d71b0d568d14f978b98c759f805348c",
            "54677e6205bc40e99e4032d127fee5ee",
            "7ce9fd954ea3432aba50a458d9b8f4b0",
            "975b850a731f45f49a93306df24c4a8d",
            "45d1ad05c5fe4297a8108c1d10015b4b",
            "77ba5b1f68a84771ba6b9f7ccbff70e9",
            "19c1e5090ac14bcabd2d7f07faf5d3e6",
            "f43cd5768c584e35ad6870d951684f34",
            "3403c1481f5649e3817a866eb42eda17",
            "14aaeac205f649b2a7e6c285254152c7",
            "c8ca932170db40bcadd07a89539e6fee"
          ]
        },
        "id": "e_jaDKg94GO9",
        "outputId": "eacfd95a-73f7-4938-f839-d6247f128d78"
      },
      "execution_count": 4,
      "outputs": [
        {
          "output_type": "stream",
          "name": "stdout",
          "text": [
            "Downloading https://www.cs.toronto.edu/~kriz/cifar-10-python.tar.gz to ./data/cifar-10-python.tar.gz\n"
          ]
        },
        {
          "output_type": "display_data",
          "data": {
            "application/vnd.jupyter.widget-view+json": {
              "model_id": "5d71b0d568d14f978b98c759f805348c",
              "version_minor": 0,
              "version_major": 2
            },
            "text/plain": [
              "  0%|          | 0/170498071 [00:00<?, ?it/s]"
            ]
          },
          "metadata": {}
        },
        {
          "output_type": "stream",
          "name": "stdout",
          "text": [
            "Extracting ./data/cifar-10-python.tar.gz to ./data\n",
            "Files already downloaded and verified\n"
          ]
        }
      ]
    },
    {
      "cell_type": "markdown",
      "source": [
        "Let us show some of the training images, for fun."
      ],
      "metadata": {
        "id": "cFhW6GA093Vw"
      }
    },
    {
      "cell_type": "code",
      "source": [
        "import matplotlib.pyplot as plt\n",
        "import numpy as np\n",
        "\n",
        "# functions to show an image\n",
        "\n",
        "\n",
        "def imshow(img):\n",
        "    img = img / 2 + 0.5     # unnormalize\n",
        "    npimg = img.numpy()\n",
        "    plt.imshow(np.transpose(npimg, (1, 2, 0)))\n",
        "    plt.show()\n",
        "\n",
        "\n",
        "# get some random training images\n",
        "dataiter = iter(trainloader)\n",
        "images, labels = dataiter.next()\n",
        "\n",
        "# show images\n",
        "imshow(torchvision.utils.make_grid(images))\n",
        "# print labels\n",
        "print(' '.join(f'{classes[labels[j]]:5s}' for j in range(batch_size)))"
      ],
      "metadata": {
        "colab": {
          "base_uri": "https://localhost:8080/",
          "height": 155
        },
        "id": "wWOuAp204QH_",
        "outputId": "cc31654b-404f-4d33-fd30-cf30d4293cc2"
      },
      "execution_count": null,
      "outputs": [
        {
          "output_type": "display_data",
          "data": {
            "image/png": "[encoded data removed]",
            "text/plain": [
              "<Figure size 432x288 with 1 Axes>"
            ]
          },
          "metadata": {
            "needs_background": "light"
          }
        },
        {
          "output_type": "stream",
          "name": "stdout",
          "text": [
            "car   horse plane bird \n"
          ]
        }
      ]
    },
    {
      "cell_type": "markdown",
      "source": [
        "Define a Convolutional Neural Network\n",
        "\n",
        "modify it to take 3-channel images"
      ],
      "metadata": {
        "id": "AmMUYhvB-Hhy"
      }
    },
    {
      "cell_type": "code",
      "source": [
        "import torch.nn as nn\n",
        "import torch.nn.functional as F\n",
        "\n",
        "\n",
        "class Net(nn.Module):\n",
        "    def __init__(self):\n",
        "        super().__init__()\n",
        "        self.conv1 = nn.Conv2d(3, 6, 5)\n",
        "        self.pool = nn.MaxPool2d(2, 2)\n",
        "        self.conv2 = nn.Conv2d(6, 16, 5)\n",
        "        self.fc1 = nn.Linear(16 * 5 * 5, 120)#input,output\n",
        "        self.fc2 = nn.Linear(120, 84)\n",
        "        self.fc3 = nn.Linear(84, 10)\n",
        "\n",
        "\n",
        "    def forward(self, x):\n",
        "        x = self.pool(F.relu(self.conv1(x)))\n",
        "        x = self.pool(F.relu(self.conv2(x)))\n",
        "        x = torch.flatten(x, 1) # flatten all dimensions except batch\n",
        "        x = F.relu(self.fc1(x))\n",
        "        x = F.relu(self.fc2(x))\n",
        "        x = self.fc3(x)\n",
        "        return x\n",
        "class Net0(nn.Module):\n",
        "    def __init__(self):\n",
        "        super().__init__()\n",
        "        self.dropout = 0.5\n",
        "        self.conv1 = nn.Conv2d(3, 6, 5)\n",
        "        self.pool = nn.MaxPool2d(2, 2)\n",
        "        self.conv2 = nn.Conv2d(6, 16, 5)\n",
        "        self.fc1 = nn.Linear(16*5*5, 10)\n",
        "\n",
        "\n",
        "    def forward(self, x):\n",
        "        x = self.pool(F.relu(self.conv1(x)))\n",
        "        x = self.pool(F.relu(self.conv2(x)))\n",
        "        x = torch.flatten(x, 1) # flatten all dimensions except batch\n",
        "        x = self.fc1(x)\n",
        "        return x\n",
        "class Net1(nn.Module):\n",
        "    def __init__(self):\n",
        "        super().__init__()\n",
        "        self.dropout = 0.5\n",
        "        self.conv1 = nn.Conv2d(3, 6, 5)\n",
        "        self.pool = nn.MaxPool2d(2, 2)\n",
        "        self.conv2 = nn.Conv2d(6, 16, 5)\n",
        "        self.fc1 = nn.Linear(16*5*5, 512)\n",
        "        nn.Dropout(self.dropout)\n",
        "        self.fc2 = nn.Linear(512,10)\n",
        "\n",
        "\n",
        "    def forward(self, x):\n",
        "        x = self.pool(F.relu(self.conv1(x)))\n",
        "        x = self.pool(F.relu(self.conv2(x)))\n",
        "        x = torch.flatten(x, 1) # flatten all dimensions except batch\n",
        "        x = F.relu(self.fc1(x))\n",
        "        x = self.fc2(x)\n",
        "        return x\n",
        "class Net2(nn.Module):\n",
        "    def __init__(self):\n",
        "        super().__init__()\n",
        "        self.dropout = 0.5\n",
        "        self.conv1 = nn.Conv2d(3, 6, 5)\n",
        "        self.pool = nn.MaxPool2d(2, 2)\n",
        "        self.conv2 = nn.Conv2d(6, 16, 5)\n",
        "        self.fc1 = nn.Linear(16*5*5, 512)\n",
        "        nn.Dropout(self.dropout)\n",
        "        self.fc2 = nn.Linear(512,512)\n",
        "        nn.Dropout(self.dropout)\n",
        "        self.fc3 = nn.Linear(512,10)\n",
        "\n",
        "\n",
        "    def forward(self, x):\n",
        "        x = self.pool(F.relu(self.conv1(x)))\n",
        "        x = self.pool(F.relu(self.conv2(x)))\n",
        "        x = torch.flatten(x, 1) # flatten all dimensions except batch\n",
        "        x = F.relu(self.fc1(x))\n",
        "        x = F.relu(self.fc2(x))\n",
        "        x = self.fc3(x)\n",
        "        return x\n",
        "class Net3(nn.Module):\n",
        "    def __init__(self):\n",
        "        super().__init__()\n",
        "        self.dropout = 0.5\n",
        "        self.conv1 = nn.Conv2d(3, 6, 5)\n",
        "        self.pool = nn.MaxPool2d(2, 2)\n",
        "        self.conv2 = nn.Conv2d(6, 16, 5)\n",
        "        self.fc1 = nn.Linear(16*5*5, 512)\n",
        "        nn.Dropout(self.dropout)\n",
        "        self.fc2 = nn.Linear(512,512)\n",
        "        nn.Dropout(self.dropout)\n",
        "        self.fc3 = nn.Linear(512,512)\n",
        "        nn.Dropout(self.dropout)\n",
        "        self.fc4 = nn.Linear(512,10)\n",
        "\n",
        "\n",
        "    def forward(self, x):\n",
        "        x = self.pool(F.relu(self.conv1(x)))\n",
        "        x = self.pool(F.relu(self.conv2(x)))\n",
        "        x = torch.flatten(x, 1) # flatten all dimensions except batch\n",
        "        x = F.relu(self.fc1(x))\n",
        "        x = F.relu(self.fc2(x))\n",
        "        x = F.relu(self.fc3(x))\n",
        "        x = self.fc4(x)\n",
        "        return x\n",
        "class Net4(nn.Module):\n",
        "    def __init__(self):\n",
        "        super().__init__()\n",
        "        self.dropout = 0.5\n",
        "        self.conv1 = nn.Conv2d(3, 6, 5)\n",
        "        self.pool = nn.MaxPool2d(2, 2)\n",
        "        self.conv2 = nn.Conv2d(6, 16, 5)\n",
        "        self.fc1 = nn.Linear(16*5*5, 512)\n",
        "        nn.Dropout(self.dropout)\n",
        "        self.fc2 = nn.Linear(512,512)\n",
        "        nn.Dropout(self.dropout)\n",
        "        self.fc3 = nn.Linear(512,512)\n",
        "        nn.Dropout(self.dropout)\n",
        "        self.fc4 = nn.Linear(512,512)\n",
        "        nn.Dropout(self.dropout)\n",
        "        self.fc5 = nn.Linear(512,10)\n",
        "\n",
        "\n",
        "    def forward(self, x):\n",
        "        x = self.pool(F.relu(self.conv1(x)))\n",
        "        x = self.pool(F.relu(self.conv2(x)))\n",
        "        x = torch.flatten(x, 1) # flatten all dimensions except batch\n",
        "        x = F.relu(self.fc1(x))\n",
        "        x = F.relu(self.fc2(x))\n",
        "        x = F.relu(self.fc3(x))\n",
        "        x = F.relu(self.fc4(x))\n",
        "        x = self.fc5(x)\n",
        "        return x\n",
        "\n",
        "\n",
        "\n",
        "net = Net()\n",
        "net0 = Net0()\n",
        "net1 = Net1()\n",
        "net2 = Net2()\n",
        "net3 = Net3()\n",
        "net4 = Net4()"
      ],
      "metadata": {
        "id": "7cA2eLFW4p2C"
      },
      "execution_count": null,
      "outputs": []
    },
    {
      "cell_type": "markdown",
      "source": [
        "Define a Loss function and optimizer\n",
        "\n",
        "Let’s use a Classification Cross-Entropy loss and SGD with momentum."
      ],
      "metadata": {
        "id": "aiJyEV3O-Y_b"
      }
    },
    {
      "cell_type": "code",
      "source": [
        "import torch.optim as optim\n",
        "\n",
        "criterion = nn.CrossEntropyLoss()\n",
        "optimizer = optim.SGD(net.parameters(), lr=0.001, momentum=0.9)\n",
        "optimizer0 = optim.SGD(net0.parameters(), lr=0.001, momentum=0.9)\n",
        "optimizer1 = optim.SGD(net1.parameters(), lr=0.001, momentum=0.9)\n",
        "optimizer2 = optim.SGD(net2.parameters(), lr=0.001, momentum=0.9)\n",
        "optimizer3 = optim.SGD(net3.parameters(), lr=0.001, momentum=0.9)\n",
        "optimizer4 = optim.SGD(net4.parameters(), lr=0.001, momentum=0.9)"
      ],
      "metadata": {
        "id": "eD6PjC4F4tLv"
      },
      "execution_count": null,
      "outputs": []
    },
    {
      "cell_type": "markdown",
      "source": [
        "Train the network\n",
        "\n",
        "We simply have to loop over our data iterator, and feed the inputs to the network and optimize."
      ],
      "metadata": {
        "id": "Hx0DNHBS-a-a"
      }
    },
    {
      "cell_type": "code",
      "source": [
        "import matplotlib.pyplot as plt\n",
        "x = [1,2,3,4,5,6,7,8,9,10]\n",
        "y = []\n",
        "y0 = []\n",
        "y1 = []\n",
        "y2 = []\n",
        "y3 = []\n",
        "y4 = []\n",
        "for epoch in range(10):  # loop over the dataset multiple times\n",
        "    running_loss = 0.0\n",
        "    num_correct = 0\n",
        "    for i, data in enumerate(trainloader, 0):\n",
        "        # get the inputs; data is a list of [inputs, labels]\n",
        "        inputs, labels = data\n",
        "\n",
        "        # zero the parameter gradients\n",
        "        optimizer.zero_grad()\n",
        "\n",
        "        # forward + backward + optimize\n",
        "        outputs = net(inputs)\n",
        "        loss = criterion(outputs, labels)\n",
        "        loss.backward()\n",
        "        optimizer.step()\n",
        "\n",
        "        pred = outputs.argmax(dim=1)\n",
        "        num_correct += torch.eq(pred, data[1]).sum().float().item()\n",
        "\n",
        "        # print statistics\n",
        "        running_loss += loss.item()\n",
        "        if i % 2000 == 1999:    # print every 2000 mini-batches\n",
        "            print(f'[{epoch + 1}, {i + 1:5d}] loss: {running_loss / 2000:.3f}')\n",
        "            running_loss = 0.0\n",
        "    accuracy = num_correct/len(trainloader.dataset)\n",
        "    y.append(accuracy)\n",
        "print('Finished Training')\n",
        "#net0\n",
        "for epoch in range(10):  # loop over the dataset multiple times\n",
        "    num_correct = 0\n",
        "    running_loss = 0.0\n",
        "    for i, data in enumerate(trainloader, 0):\n",
        "        # get the inputs; data is a list of [inputs, labels]\n",
        "        inputs, labels = data\n",
        "        \n",
        "\n",
        "        # zero the parameter gradients\n",
        "        optimizer0.zero_grad()\n",
        "\n",
        "        # forward + backward + optimize\n",
        "        outputs = net0(inputs)\n",
        "        loss = criterion(outputs, labels)\n",
        "        loss.backward()\n",
        "        optimizer0.step()\n",
        "\n",
        "        pred = outputs.argmax(dim=1)\n",
        "        num_correct += torch.eq(pred, data[1]).sum().float().item()\n",
        "\n",
        "        # print statistics\n",
        "        running_loss += loss.item()\n",
        "        if i % 2000 == 1999:    # print every 2000 mini-batches\n",
        "            print(f'[{epoch + 1}, {i + 1:5d}] loss: {running_loss / 2000:.3f}')\n",
        "            running_loss = 0.0\n",
        "    accuracy = num_correct/len(trainloader.dataset)\n",
        "    y0.append(accuracy)\n",
        "\n",
        "print('Net0 Finished Training')\n",
        "#net1\n",
        "for epoch in range(10):  # loop over the dataset multiple times\n",
        "    num_correct = 0\n",
        "    running_loss = 0.0\n",
        "    for i, data in enumerate(trainloader, 0):\n",
        "        # get the inputs; data is a list of [inputs, labels]\n",
        "        inputs, labels = data\n",
        "\n",
        "        # zero the parameter gradients\n",
        "        optimizer1.zero_grad()\n",
        "\n",
        "        # forward + backward + optimize\n",
        "        outputs = net1(inputs)\n",
        "        loss = criterion(outputs, labels)\n",
        "        loss.backward()\n",
        "        optimizer1.step()\n",
        "\n",
        "        pred = outputs.argmax(dim=1)\n",
        "        num_correct += torch.eq(pred, data[1]).sum().float().item()\n",
        "\n",
        "        # print statistics\n",
        "        running_loss += loss.item()\n",
        "        if i % 2000 == 1999:    # print every 2000 mini-batches\n",
        "            print(f'[{epoch + 1}, {i + 1:5d}] loss: {running_loss / 2000:.3f}')\n",
        "            running_loss = 0.0\n",
        "    accuracy = num_correct/len(trainloader.dataset)\n",
        "    y1.append(accuracy)      \n",
        "\n",
        "print('Net1 Finished Training')\n",
        "#net2\n",
        "for epoch in range(10):  # loop over the dataset multiple times\n",
        "    num_correct = 0\n",
        "    running_loss = 0.0\n",
        "    for i, data in enumerate(trainloader, 0):\n",
        "        # get the inputs; data is a list of [inputs, labels]\n",
        "        inputs, labels = data\n",
        "\n",
        "        # zero the parameter gradients\n",
        "        optimizer2.zero_grad()\n",
        "\n",
        "        # forward + backward + optimize\n",
        "        outputs = net2(inputs)\n",
        "        loss = criterion(outputs, labels)\n",
        "        loss.backward()\n",
        "        optimizer2.step()\n",
        "\n",
        "        pred = outputs.argmax(dim=1)\n",
        "        num_correct += torch.eq(pred, data[1]).sum().float().item()\n",
        "\n",
        "        # print statistics\n",
        "        running_loss += loss.item()\n",
        "        if i % 2000 == 1999:    # print every 2000 mini-batches\n",
        "            print(f'[{epoch + 1}, {i + 1:5d}] loss: {running_loss / 2000:.3f}')\n",
        "            running_loss = 0.0\n",
        "    accuracy = num_correct/len(trainloader.dataset)\n",
        "    y2.append(accuracy)\n",
        "\n",
        "print('Net2 Finished Training')\n",
        "#net3\n",
        "for epoch in range(10):  # loop over the dataset multiple times\n",
        "    num_correct = 0\n",
        "    running_loss = 0.0\n",
        "    for i, data in enumerate(trainloader, 0):\n",
        "        # get the inputs; data is a list of [inputs, labels]\n",
        "        inputs, labels = data\n",
        "\n",
        "        # zero the parameter gradients\n",
        "        optimizer3.zero_grad()\n",
        "\n",
        "        # forward + backward + optimize\n",
        "        outputs = net3(inputs)\n",
        "        loss = criterion(outputs, labels)\n",
        "        loss.backward()\n",
        "        optimizer3.step()\n",
        "\n",
        "        pred = outputs.argmax(dim=1)\n",
        "        num_correct += torch.eq(pred, data[1]).sum().float().item()\n",
        "\n",
        "        # print statistics\n",
        "        running_loss += loss.item()\n",
        "        if i % 2000 == 1999:    # print every 2000 mini-batches\n",
        "            print(f'[{epoch + 1}, {i + 1:5d}] loss: {running_loss / 2000:.3f}')\n",
        "            running_loss = 0.0\n",
        "    accuracy = num_correct/len(trainloader.dataset)\n",
        "    y3.append(accuracy)\n",
        "\n",
        "print('Net3 Finished Training')\n",
        "#net4\n",
        "for epoch in range(10):  # loop over the dataset multiple times\n",
        "\n",
        "    running_loss = 0.0\n",
        "    for i, data in enumerate(trainloader, 0):\n",
        "        # get the inputs; data is a list of [inputs, labels]\n",
        "        inputs, labels = data\n",
        "\n",
        "        # zero the parameter gradients\n",
        "        optimizer4.zero_grad()\n",
        "\n",
        "        # forward + backward + optimize\n",
        "        outputs = net4(inputs)\n",
        "        loss = criterion(outputs, labels)\n",
        "        loss.backward()\n",
        "        optimizer4.step()\n",
        "\n",
        "        pred = outputs.argmax(dim=1)\n",
        "        num_correct += torch.eq(pred, data[1]).sum().float().item()\n",
        "\n",
        "        # print statistics\n",
        "        running_loss += loss.item()\n",
        "        if i % 2000 == 1999:    # print every 2000 mini-batches\n",
        "            print(f'[{epoch + 1}, {i + 1:5d}] loss: {running_loss / 2000:.3f}')\n",
        "            running_loss = 0.0\n",
        "    accuracy = num_correct/len(trainloader.dataset)\n",
        "    y4.append(accuracy)\n",
        "\n",
        "print('Net4 Finished Training')\n",
        "fig,ax = plt.subplots()\n",
        "ax.plot(x,y,color = \"brown\")\n",
        "ax.plot(x,y0,color = \"red\")\n",
        "ax.plot(x,y1,color = \"yellow\")\n",
        "ax.plot(x,y2,color = \"green\")\n",
        "ax.plot(x,y3,color = \"black\")\n",
        "ax.plot(x,y4,color = \"blue\")"
      ],
      "metadata": {
        "colab": {
          "base_uri": "https://localhost:8080/",
          "height": 235
        },
        "id": "zHnwSjV44v_D",
        "outputId": "3200909e-f764-4b89-d849-d7983bf434d0"
      },
      "execution_count": 2,
      "outputs": [
        {
          "output_type": "error",
          "ename": "NameError",
          "evalue": "ignored",
          "traceback": [
            "\u001b[0;31m---------------------------------------------------------------------------\u001b[0m",
            "\u001b[0;31mNameError\u001b[0m                                 Traceback (most recent call last)",
            "\u001b[0;32m<ipython-input-2-69653f4b9482>\u001b[0m in \u001b[0;36m<module>\u001b[0;34m()\u001b[0m\n\u001b[1;32m     10\u001b[0m     \u001b[0mrunning_loss\u001b[0m \u001b[0;34m=\u001b[0m \u001b[0;36m0.0\u001b[0m\u001b[0;34m\u001b[0m\u001b[0;34m\u001b[0m\u001b[0m\n\u001b[1;32m     11\u001b[0m     \u001b[0mnum_correct\u001b[0m \u001b[0;34m=\u001b[0m \u001b[0;36m0\u001b[0m\u001b[0;34m\u001b[0m\u001b[0;34m\u001b[0m\u001b[0m\n\u001b[0;32m---> 12\u001b[0;31m     \u001b[0;32mfor\u001b[0m \u001b[0mi\u001b[0m\u001b[0;34m,\u001b[0m \u001b[0mdata\u001b[0m \u001b[0;32min\u001b[0m \u001b[0menumerate\u001b[0m\u001b[0;34m(\u001b[0m\u001b[0mtrainloader\u001b[0m\u001b[0;34m,\u001b[0m \u001b[0;36m0\u001b[0m\u001b[0;34m)\u001b[0m\u001b[0;34m:\u001b[0m\u001b[0;34m\u001b[0m\u001b[0;34m\u001b[0m\u001b[0m\n\u001b[0m\u001b[1;32m     13\u001b[0m         \u001b[0;31m# get the inputs; data is a list of [inputs, labels]\u001b[0m\u001b[0;34m\u001b[0m\u001b[0;34m\u001b[0m\u001b[0;34m\u001b[0m\u001b[0m\n\u001b[1;32m     14\u001b[0m         \u001b[0minputs\u001b[0m\u001b[0;34m,\u001b[0m \u001b[0mlabels\u001b[0m \u001b[0;34m=\u001b[0m \u001b[0mdata\u001b[0m\u001b[0;34m\u001b[0m\u001b[0;34m\u001b[0m\u001b[0m\n",
            "\u001b[0;31mNameError\u001b[0m: name 'trainloader' is not defined"
          ]
        }
      ]
    },
    {
      "cell_type": "markdown",
      "source": [
        "Let’s quickly save our trained model:"
      ],
      "metadata": {
        "id": "yS6wH2hh-2gY"
      }
    },
    {
      "cell_type": "code",
      "source": [
        "PATH = './cifar_net.pth'\n",
        "PATH0 = './cifar_net0.pth'\n",
        "PATH1 = './cifar_net1.pth'\n",
        "PATH2 = './cifar_net2.pth'\n",
        "PATH3 = './cifar_net3.pth'\n",
        "PATH4 = './cifar_net4.pth'\n",
        "torch.save(net.state_dict(), PATH)\n",
        "torch.save(net0.state_dict(), PATH0)\n",
        "torch.save(net1.state_dict(), PATH1)\n",
        "torch.save(net2.state_dict(), PATH2)\n",
        "torch.save(net3.state_dict(), PATH3)\n",
        "torch.save(net4.state_dict(), PATH4)"
      ],
      "metadata": {
        "id": "f4AsH-m64z6S",
        "colab": {
          "base_uri": "https://localhost:8080/",
          "height": 235
        },
        "outputId": "c35e3609-9c70-4d55-8d9f-fee38e3b8f82"
      },
      "execution_count": null,
      "outputs": [
        {
          "output_type": "error",
          "ename": "NameError",
          "evalue": "ignored",
          "traceback": [
            "\u001b[0;31m---------------------------------------------------------------------------\u001b[0m",
            "\u001b[0;31mNameError\u001b[0m                                 Traceback (most recent call last)",
            "\u001b[0;32m<ipython-input-1-e05303e5c7e3>\u001b[0m in \u001b[0;36m<module>\u001b[0;34m()\u001b[0m\n\u001b[1;32m      5\u001b[0m \u001b[0mPATH3\u001b[0m \u001b[0;34m=\u001b[0m \u001b[0;34m'./cifar_net3.pth'\u001b[0m\u001b[0;34m\u001b[0m\u001b[0;34m\u001b[0m\u001b[0m\n\u001b[1;32m      6\u001b[0m \u001b[0mPATH4\u001b[0m \u001b[0;34m=\u001b[0m \u001b[0;34m'./cifar_net4.pth'\u001b[0m\u001b[0;34m\u001b[0m\u001b[0;34m\u001b[0m\u001b[0m\n\u001b[0;32m----> 7\u001b[0;31m \u001b[0mtorch\u001b[0m\u001b[0;34m.\u001b[0m\u001b[0msave\u001b[0m\u001b[0;34m(\u001b[0m\u001b[0mnet\u001b[0m\u001b[0;34m.\u001b[0m\u001b[0mstate_dict\u001b[0m\u001b[0;34m(\u001b[0m\u001b[0;34m)\u001b[0m\u001b[0;34m,\u001b[0m \u001b[0mPATH\u001b[0m\u001b[0;34m)\u001b[0m\u001b[0;34m\u001b[0m\u001b[0;34m\u001b[0m\u001b[0m\n\u001b[0m\u001b[1;32m      8\u001b[0m \u001b[0mtorch\u001b[0m\u001b[0;34m.\u001b[0m\u001b[0msave\u001b[0m\u001b[0;34m(\u001b[0m\u001b[0mnet0\u001b[0m\u001b[0;34m.\u001b[0m\u001b[0mstate_dict\u001b[0m\u001b[0;34m(\u001b[0m\u001b[0;34m)\u001b[0m\u001b[0;34m,\u001b[0m \u001b[0mPATH0\u001b[0m\u001b[0;34m)\u001b[0m\u001b[0;34m\u001b[0m\u001b[0;34m\u001b[0m\u001b[0m\n\u001b[1;32m      9\u001b[0m \u001b[0mtorch\u001b[0m\u001b[0;34m.\u001b[0m\u001b[0msave\u001b[0m\u001b[0;34m(\u001b[0m\u001b[0mnet1\u001b[0m\u001b[0;34m.\u001b[0m\u001b[0mstate_dict\u001b[0m\u001b[0;34m(\u001b[0m\u001b[0;34m)\u001b[0m\u001b[0;34m,\u001b[0m \u001b[0mPATH1\u001b[0m\u001b[0;34m)\u001b[0m\u001b[0;34m\u001b[0m\u001b[0;34m\u001b[0m\u001b[0m\n",
            "\u001b[0;31mNameError\u001b[0m: name 'torch' is not defined"
          ]
        }
      ]
    },
    {
      "cell_type": "markdown",
      "source": [
        "#Test the network on the test data\n",
        "\n",
        "We have trained the network for 2 passes over the training dataset. But we need to check if the network has learnt anything at all.\n",
        "\n",
        "We will check this by predicting the class label that the neural network outputs, and checking it against the ground-truth. If the prediction is correct, we add the sample to the list of correct predictions.\n",
        "\n",
        "Okay, first step. Let us display an image from the test set to get familiar."
      ],
      "metadata": {
        "id": "fhdhXkp5-3rB"
      }
    },
    {
      "cell_type": "code",
      "source": [
        "dataiter = iter(testloader)\n",
        "images, labels = dataiter.next()\n",
        "\n",
        "# print images\n",
        "imshow(torchvision.utils.make_grid(images))\n",
        "print('GroundTruth: ', ' '.join(f'{classes[labels[j]]:5s}' for j in range(4)))"
      ],
      "metadata": {
        "colab": {
          "base_uri": "https://localhost:8080/",
          "height": 155
        },
        "id": "FrCY2e0-44TU",
        "outputId": "a7dd9f3a-a749-4255-fe5e-4f60de8c14f2"
      },
      "execution_count": null,
      "outputs": [
        {
          "output_type": "display_data",
          "data": {
            "image/png": "[encoded data removed]",
            "text/plain": [
              "<Figure size 432x288 with 1 Axes>"
            ]
          },
          "metadata": {
            "needs_background": "light"
          }
        },
        {
          "output_type": "stream",
          "name": "stdout",
          "text": [
            "GroundTruth:  cat   ship  ship  plane\n"
          ]
        }
      ]
    },
    {
      "cell_type": "code",
      "source": [
        ""
      ],
      "metadata": {
        "id": "h_2JZzI3_Tny"
      },
      "execution_count": null,
      "outputs": []
    },
    {
      "cell_type": "markdown",
      "source": [
        "let’s load back in our saved model "
      ],
      "metadata": {
        "id": "9525xNsm_OC1"
      }
    },
    {
      "cell_type": "code",
      "source": [
        "net = Net()\n",
        "net.load_state_dict(torch.load(PATH))\n",
        "net0 = Net0()\n",
        "net0.load_state_dict(torch.load(PATH0))\n",
        "net1 = Net1()\n",
        "net1.load_state_dict(torch.load(PATH1))\n",
        "net2 = Net2()\n",
        "net2.load_state_dict(torch.load(PATH2))\n",
        "net3 = Net3()\n",
        "net3.load_state_dict(torch.load(PATH3))\n",
        "net4 = Net4()\n",
        "net4.load_state_dict(torch.load(PATH4))"
      ],
      "metadata": {
        "colab": {
          "base_uri": "https://localhost:8080/"
        },
        "id": "sJsmaNg35CvS",
        "outputId": "bfe71c1b-1bc8-46f2-aa56-7cb43f72b148"
      },
      "execution_count": null,
      "outputs": [
        {
          "output_type": "execute_result",
          "data": {
            "text/plain": [
              "<All keys matched successfully>"
            ]
          },
          "metadata": {},
          "execution_count": 42
        }
      ]
    },
    {
      "cell_type": "markdown",
      "source": [
        "now let us see what the neural network thinks these examples above are:"
      ],
      "metadata": {
        "id": "fb8dS8Ma_TMY"
      }
    },
    {
      "cell_type": "code",
      "source": [
        "outputs = net(images)\n",
        "outputs0 = net0(images)\n",
        "outputs1 = net1(images)\n",
        "outputs2 = net2(images)\n",
        "outputs3 = net3(images)\n",
        "outputs4 = net4(images)"
      ],
      "metadata": {
        "id": "XUFvxCk_5Ext"
      },
      "execution_count": null,
      "outputs": []
    },
    {
      "cell_type": "markdown",
      "source": [
        "The outputs are probabilities for the 10 classes. The higher the probability for a class, the more the network thinks that the image is of the particular class. So, let’s get the index of the highest probability:"
      ],
      "metadata": {
        "id": "DpW9tjkc_YG_"
      }
    },
    {
      "cell_type": "code",
      "source": [
        "_, predicted = torch.max(outputs, 1)\n",
        "\n",
        "print('Predicted: ', ' '.join(f'{classes[predicted[j]]:5s}'\n",
        "                              for j in range(4)))\n",
        "_, predicted0 = torch.max(outputs0, 1)\n",
        "\n",
        "print('Predicted: ', ' '.join(f'{classes[predicted0[j]]:5s}'\n",
        "                              for j in range(4)))\n",
        "_, predicted1 = torch.max(outputs1, 1)\n",
        "\n",
        "print('Predicted: ', ' '.join(f'{classes[predicted1[j]]:5s}'\n",
        "                              for j in range(4)))\n",
        "_, predicted2 = torch.max(outputs2, 1)\n",
        "\n",
        "print('Predicted: ', ' '.join(f'{classes[predicted2[j]]:5s}'\n",
        "                              for j in range(4)))\n",
        "_, predicted3 = torch.max(outputs3, 1)\n",
        "\n",
        "print('Predicted: ', ' '.join(f'{classes[predicted3[j]]:5s}'\n",
        "                              for j in range(4)))\n",
        "_, predicted4 = torch.max(outputs4, 1)\n",
        "\n",
        "print('Predicted: ', ' '.join(f'{classes[predicted4[j]]:5s}'\n",
        "                              for j in range(4)))"
      ],
      "metadata": {
        "colab": {
          "base_uri": "https://localhost:8080/"
        },
        "id": "DCjPvO4_5HOc",
        "outputId": "af0e342e-bf71-41d4-f0a4-efa8f48db10e"
      },
      "execution_count": null,
      "outputs": [
        {
          "output_type": "stream",
          "name": "stdout",
          "text": [
            "Predicted:  cat   car   car   ship \n",
            "Predicted:  cat   ship  ship  ship \n",
            "Predicted:  cat   car   car   plane\n",
            "Predicted:  cat   car   ship  ship \n",
            "Predicted:  cat   car   ship  plane\n",
            "Predicted:  cat   ship  plane plane\n"
          ]
        }
      ]
    },
    {
      "cell_type": "markdown",
      "source": [
        "Let us look at how the network performs on the whole dataset."
      ],
      "metadata": {
        "id": "pFiWS-Qz_i1P"
      }
    },
    {
      "cell_type": "code",
      "source": [
        "correct = 0\n",
        "total = 0\n",
        "correct0 = 0\n",
        "total0 = 0\n",
        "correct1 = 0\n",
        "total1 = 0\n",
        "correct2 = 0\n",
        "total2 = 0\n",
        "correct3 = 0\n",
        "total3 = 0\n",
        "correct4 = 0\n",
        "total4 = 0\n",
        "# since we're not training, we don't need to calculate the gradients for our outputs\n",
        "with torch.no_grad():\n",
        "    for data in testloader:\n",
        "        images, labels = data\n",
        "        # calculate outputs by running images through the network\n",
        "        outputs = net(images)\n",
        "        # the class with the highest energy is what we choose as prediction\n",
        "        _, predicted = torch.max(outputs.data, 1)\n",
        "        total += labels.size(0)\n",
        "        correct += (predicted == labels).sum().item()\n",
        "\n",
        "print(f'Accuracy of the network on the 10000 test images: {100 * correct // total} %')\n",
        "#net0\n",
        "with torch.no_grad():\n",
        "    for data in testloader:\n",
        "        images, labels = data\n",
        "        # calculate outputs by running images through the network\n",
        "        outputs0 = net0(images)\n",
        "        # the class with the highest energy is what we choose as prediction\n",
        "        _, predicted0 = torch.max(outputs0.data, 1)\n",
        "        total0 += labels.size(0)\n",
        "        correct0 += (predicted0 == labels).sum().item()\n",
        "\n",
        "print(f'Accuracy of the network0 on the 10000 test images: {100 * correct0 // total0} %')\n",
        "#net1\n",
        "with torch.no_grad():\n",
        "    for data in testloader:\n",
        "        images, labels = data\n",
        "        # calculate outputs by running images through the network\n",
        "        outputs1 = net1(images)\n",
        "        # the class with the highest energy is what we choose as prediction\n",
        "        _, predicted1 = torch.max(outputs1.data, 1)\n",
        "        total1 += labels.size(0)\n",
        "        correct1 += (predicted1 == labels).sum().item()\n",
        "\n",
        "print(f'Accuracy of the network1 on the 10000 test images: {100 * correct1 // total1} %')\n",
        "#net2\n",
        "with torch.no_grad():\n",
        "    for data in testloader:\n",
        "        images, labels = data\n",
        "        # calculate outputs by running images through the network\n",
        "        outputs2 = net2(images)\n",
        "        # the class with the highest energy is what we choose as prediction\n",
        "        _, predicted2 = torch.max(outputs2.data, 1)\n",
        "        total2 += labels.size(0)\n",
        "        correct2 += (predicted2 == labels).sum().item()\n",
        "\n",
        "print(f'Accuracy of the network2 on the 10000 test images: {100 * correct2 // total2} %')\n",
        "#net3\n",
        "with torch.no_grad():\n",
        "    for data in testloader:\n",
        "        images, labels = data\n",
        "        # calculate outputs by running images through the network\n",
        "        outputs3 = net3(images)\n",
        "        # the class with the highest energy is what we choose as prediction\n",
        "        _, predicted3 = torch.max(outputs3.data, 1)\n",
        "        total3 += labels.size(0)\n",
        "        correct3 += (predicted3 == labels).sum().item()\n",
        "\n",
        "print(f'Accuracy of the network3 on the 10000 test images: {100 * correct1 // total1} %')\n",
        "#net4\n",
        "with torch.no_grad():\n",
        "    for data in testloader:\n",
        "        images, labels = data\n",
        "        # calculate outputs by running images through the network\n",
        "        outputs4 = net4(images)\n",
        "        # the class with the highest energy is what we choose as prediction\n",
        "        _, predicted4 = torch.max(outputs4.data, 1)\n",
        "        total4 += labels.size(0)\n",
        "        correct4 += (predicted4 == labels).sum().item()\n",
        "\n",
        "print(f'Accuracy of the network4 on the 10000 test images: {100 * correct4 // total4} %')"
      ],
      "metadata": {
        "colab": {
          "base_uri": "https://localhost:8080/",
          "height": 367
        },
        "id": "UE-r2JrB5KnW",
        "outputId": "bb89d873-c8b4-4969-b67e-b3cff985b77e"
      },
      "execution_count": null,
      "outputs": [
        {
          "output_type": "stream",
          "name": "stdout",
          "text": [
            "Accuracy of the network on the 10000 test images: 54 %\n",
            "Accuracy of the network0 on the 10000 test images: 54 %\n",
            "Accuracy of the network1 on the 10000 test images: 56 %\n",
            "Accuracy of the network2 on the 10000 test images: 56 %\n",
            "Accuracy of the network3 on the 10000 test images: 56 %\n",
            "Accuracy of the network4 on the 10000 test images: 53 %\n"
          ]
        },
        {
          "output_type": "display_data",
          "data": {
            "image/png": "[encoded data removed]",
            "text/plain": [
              "<Figure size 432x288 with 1 Axes>"
            ]
          },
          "metadata": {
            "needs_background": "light"
          }
        }
      ]
    },
    {
      "cell_type": "markdown",
      "source": [
        "what are the classes that performed well, and the classes that did not perform well:"
      ],
      "metadata": {
        "id": "npe4vq5P_tbI"
      }
    },
    {
      "cell_type": "code",
      "source": [
        "# prepare to count predictions for each class\n",
        "correct_pred = {classname: 0 for classname in classes}\n",
        "total_pred = {classname: 0 for classname in classes}\n",
        "\n",
        "# again no gradients needed\n",
        "with torch.no_grad():\n",
        "    for data in testloader:\n",
        "        images, labels = data\n",
        "        outputs = net(images)\n",
        "        _, predictions = torch.max(outputs, 1)\n",
        "        # collect the correct predictions for each class\n",
        "        for label, prediction in zip(labels, predictions):\n",
        "            if label == prediction:\n",
        "                correct_pred[classes[label]] += 1\n",
        "            total_pred[classes[label]] += 1\n",
        "\n",
        "\n",
        "# print accuracy for each class\n",
        "for classname, correct_count in correct_pred.items():\n",
        "    accuracy = 100 * float(correct_count) / total_pred[classname]\n",
        "    print(f'Accuracy for class: {classname:5s} is {accuracy:.1f} %')\n",
        "\n",
        "#net0\n",
        "correct_pred = {classname: 0 for classname in classes}\n",
        "total_pred = {classname: 0 for classname in classes}\n",
        "# again no gradients needed\n",
        "with torch.no_grad():\n",
        "    for data in testloader:\n",
        "        images, labels = data\n",
        "        outputs = net0(images)\n",
        "        _, predictions = torch.max(outputs, 1)\n",
        "        # collect the correct predictions for each class\n",
        "        for label, prediction in zip(labels, predictions):\n",
        "            if label == prediction:\n",
        "                correct_pred[classes[label]] += 1\n",
        "            total_pred[classes[label]] += 1\n",
        "\n",
        "\n",
        "# print accuracy for each class\n",
        "for classname, correct_count in correct_pred.items():\n",
        "    accuracy = 100 * float(correct_count) / total_pred[classname]\n",
        "    print(f'net0 Accuracy for class: {classname:5s} is {accuracy:.1f} %')\n",
        "\n",
        "#net1\n",
        "correct_pred = {classname: 0 for classname in classes}\n",
        "total_pred = {classname: 0 for classname in classes}\n",
        "# again no gradients needed\n",
        "with torch.no_grad():\n",
        "    for data in testloader:\n",
        "        images, labels = data\n",
        "        outputs = net1(images)\n",
        "        _, predictions = torch.max(outputs, 1)\n",
        "        # collect the correct predictions for each class\n",
        "        for label, prediction in zip(labels, predictions):\n",
        "            if label == prediction:\n",
        "                correct_pred[classes[label]] += 1\n",
        "            total_pred[classes[label]] += 1\n",
        "\n",
        "\n",
        "# print accuracy for each class\n",
        "for classname, correct_count in correct_pred.items():\n",
        "    accuracy = 100 * float(correct_count) / total_pred[classname]\n",
        "    print(f'net1 Accuracy for class: {classname:5s} is {accuracy:.1f} %')\n",
        "\n",
        "#net2\n",
        "correct_pred = {classname: 0 for classname in classes}\n",
        "total_pred = {classname: 0 for classname in classes}\n",
        "# again no gradients needed\n",
        "with torch.no_grad():\n",
        "    for data in testloader:\n",
        "        images, labels = data\n",
        "        outputs = net2(images)\n",
        "        _, predictions = torch.max(outputs, 1)\n",
        "        # collect the correct predictions for each class\n",
        "        for label, prediction in zip(labels, predictions):\n",
        "            if label == prediction:\n",
        "                correct_pred[classes[label]] += 1\n",
        "            total_pred[classes[label]] += 1\n",
        "\n",
        "\n",
        "# print accuracy for each class\n",
        "for classname, correct_count in correct_pred.items():\n",
        "    accuracy = 100 * float(correct_count) / total_pred[classname]\n",
        "    print(f'net2 Accuracy for class: {classname:5s} is {accuracy:.1f} %')\n",
        "\n",
        "#net3\n",
        "correct_pred = {classname: 0 for classname in classes}\n",
        "total_pred = {classname: 0 for classname in classes}\n",
        "# again no gradients needed\n",
        "with torch.no_grad():\n",
        "    for data in testloader:\n",
        "        images, labels = data\n",
        "        outputs = net3(images)\n",
        "        _, predictions = torch.max(outputs, 1)\n",
        "        # collect the correct predictions for each class\n",
        "        for label, prediction in zip(labels, predictions):\n",
        "            if label == prediction:\n",
        "                correct_pred[classes[label]] += 1\n",
        "            total_pred[classes[label]] += 1\n",
        "\n",
        "\n",
        "# print accuracy for each class\n",
        "for classname, correct_count in correct_pred.items():\n",
        "    accuracy = 100 * float(correct_count) / total_pred[classname]\n",
        "    print(f'net3 Accuracy for class: {classname:5s} is {accuracy:.1f} %')\n",
        "\n",
        "#net4\n",
        "correct_pred = {classname: 0 for classname in classes}\n",
        "total_pred = {classname: 0 for classname in classes}\n",
        "# again no gradients needed\n",
        "with torch.no_grad():\n",
        "    for data in testloader:\n",
        "        images, labels = data\n",
        "        outputs = net4(images)\n",
        "        _, predictions = torch.max(outputs, 1)\n",
        "        # collect the correct predictions for each class\n",
        "        for label, prediction in zip(labels, predictions):\n",
        "            if label == prediction:\n",
        "                correct_pred[classes[label]] += 1\n",
        "            total_pred[classes[label]] += 1\n",
        "\n",
        "\n",
        "# print accuracy for each class\n",
        "for classname, correct_count in correct_pred.items():\n",
        "    accuracy = 100 * float(correct_count) / total_pred[classname]\n",
        "    print(f'net4 Accuracy for class: {classname:5s} is {accuracy:.1f} %')"
      ],
      "metadata": {
        "colab": {
          "base_uri": "https://localhost:8080/"
        },
        "id": "uvZk3cZ55Nwv",
        "outputId": "d4c93320-9a62-47f5-e738-2a9da9e1fd02"
      },
      "execution_count": null,
      "outputs": [
        {
          "output_type": "stream",
          "name": "stdout",
          "text": [
            "Accuracy for class: plane is 64.0 %\n",
            "Accuracy for class: car   is 59.7 %\n",
            "Accuracy for class: bird  is 37.0 %\n",
            "Accuracy for class: cat   is 40.3 %\n",
            "Accuracy for class: deer  is 33.9 %\n",
            "Accuracy for class: dog   is 42.5 %\n",
            "Accuracy for class: frog  is 77.1 %\n",
            "Accuracy for class: horse is 70.4 %\n",
            "Accuracy for class: ship  is 47.4 %\n",
            "Accuracy for class: truck is 74.4 %\n",
            "net0 Accuracy for class: plane is 60.0 %\n",
            "net0 Accuracy for class: car   is 75.2 %\n",
            "net0 Accuracy for class: bird  is 42.6 %\n",
            "net0 Accuracy for class: cat   is 25.5 %\n",
            "net0 Accuracy for class: deer  is 41.2 %\n",
            "net0 Accuracy for class: dog   is 61.0 %\n",
            "net0 Accuracy for class: frog  is 61.3 %\n",
            "net0 Accuracy for class: horse is 57.8 %\n",
            "net0 Accuracy for class: ship  is 81.5 %\n",
            "net0 Accuracy for class: truck is 38.8 %\n",
            "net1 Accuracy for class: plane is 54.3 %\n",
            "net1 Accuracy for class: car   is 76.4 %\n",
            "net1 Accuracy for class: bird  is 35.1 %\n",
            "net1 Accuracy for class: cat   is 61.4 %\n",
            "net1 Accuracy for class: deer  is 27.3 %\n",
            "net1 Accuracy for class: dog   is 54.3 %\n",
            "net1 Accuracy for class: frog  is 61.0 %\n",
            "net1 Accuracy for class: horse is 54.5 %\n",
            "net1 Accuracy for class: ship  is 68.2 %\n",
            "net1 Accuracy for class: truck is 71.3 %\n",
            "net2 Accuracy for class: plane is 58.9 %\n",
            "net2 Accuracy for class: car   is 71.8 %\n",
            "net2 Accuracy for class: bird  is 22.6 %\n",
            "net2 Accuracy for class: cat   is 38.5 %\n",
            "net2 Accuracy for class: deer  is 49.5 %\n",
            "net2 Accuracy for class: dog   is 55.6 %\n",
            "net2 Accuracy for class: frog  is 54.6 %\n",
            "net2 Accuracy for class: horse is 67.2 %\n",
            "net2 Accuracy for class: ship  is 69.9 %\n",
            "net2 Accuracy for class: truck is 73.5 %\n",
            "net3 Accuracy for class: plane is 54.2 %\n",
            "net3 Accuracy for class: car   is 71.6 %\n",
            "net3 Accuracy for class: bird  is 42.7 %\n",
            "net3 Accuracy for class: cat   is 53.9 %\n",
            "net3 Accuracy for class: deer  is 41.6 %\n",
            "net3 Accuracy for class: dog   is 40.2 %\n",
            "net3 Accuracy for class: frog  is 58.4 %\n",
            "net3 Accuracy for class: horse is 64.7 %\n",
            "net3 Accuracy for class: ship  is 69.5 %\n",
            "net3 Accuracy for class: truck is 47.7 %\n",
            "net4 Accuracy for class: plane is 74.7 %\n",
            "net4 Accuracy for class: car   is 73.6 %\n",
            "net4 Accuracy for class: bird  is 21.1 %\n",
            "net4 Accuracy for class: cat   is 17.0 %\n",
            "net4 Accuracy for class: deer  is 39.2 %\n",
            "net4 Accuracy for class: dog   is 74.3 %\n",
            "net4 Accuracy for class: frog  is 58.0 %\n",
            "net4 Accuracy for class: horse is 64.6 %\n",
            "net4 Accuracy for class: ship  is 55.9 %\n",
            "net4 Accuracy for class: truck is 54.2 %\n"
          ]
        }
      ]
    },
    {
      "cell_type": "markdown",
      "source": [
        "for the problem a, Accuracy of the network1,network2,network 3 is highest, and the accuracy if the network4 is lowest\n",
        "\n",
        "\n",
        "```\n",
        "# This is formatted as code\n",
        "```\n",
        "\n"
      ],
      "metadata": {
        "id": "zap253zKOzLS"
      }
    }
  ]
}