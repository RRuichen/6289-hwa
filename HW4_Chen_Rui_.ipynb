{
  "nbformat": 4,
  "nbformat_minor": 0,
  "metadata": {
    "colab": {
      "name": "HW4_Chen_Rui .ipynb",
      "provenance": [],
      "collapsed_sections": [],
      "toc_visible": true
    },
    "kernelspec": {
      "name": "python3",
      "display_name": "Python 3"
    },
    "language_info": {
      "name": "python"
    }
  },
  "cells": [
    {
      "cell_type": "markdown",
      "source": [
        "### **HW4**"
      ],
      "metadata": {
        "id": "WvTN8EDwi9ws"
      }
    },
    {
      "cell_type": "markdown",
      "source": [
        "Install Magnitude"
      ],
      "metadata": {
        "id": "eCel-SPU8oga"
      }
    },
    {
      "cell_type": "code",
      "source": [
        "! echo \"Installing Magnitude.... (please wait, can take a while)\"\n",
        "! (curl https://raw.githubusercontent.com/plasticityai/magnitude/master/install-colab.sh | /bin/bash 1>/dev/null 2>/dev/null)\n",
        "! echo \"Done installing Magnitude.\""
      ],
      "metadata": {
        "colab": {
          "base_uri": "https://localhost:8080/"
        },
        "id": "Mwp8_Idz8slt",
        "outputId": "12b4053f-3f3e-4706-c903-1c34f592f1b5"
      },
      "execution_count": null,
      "outputs": [
        {
          "output_type": "stream",
          "name": "stdout",
          "text": [
            "Installing Magnitude.... (please wait, can take a while)\n",
            "  % Total    % Received % Xferd  Average Speed   Time    Time     Time  Current\n",
            "                                 Dload  Upload   Total   Spent    Left  Speed\n",
            "100   137  100   137    0     0    717      0 --:--:-- --:--:-- --:--:--   717\n",
            "Done installing Magnitude.\n"
          ]
        }
      ]
    },
    {
      "cell_type": "code",
      "source": [
        "from pymagnitude import *\n",
        "file_path = '/content/drive/My Drive//GoogleNews-vectors-negative300.magnitude'\n",
        "vectors = Magnitude(file_path)"
      ],
      "metadata": {
        "id": "4w1AEZ80FH-5"
      },
      "execution_count": 34,
      "outputs": []
    },
    {
      "cell_type": "code",
      "source": [
        "vectors.distance(\"cat\",\"dog\")"
      ],
      "metadata": {
        "colab": {
          "base_uri": "https://localhost:8080/"
        },
        "id": "n-Ri88mpXS3j",
        "outputId": "83424f79-32e0-4589-aaee-f0bc493363f2"
      },
      "execution_count": 35,
      "outputs": [
        {
          "output_type": "execute_result",
          "data": {
            "text/plain": [
              "0.69145405"
            ]
          },
          "metadata": {},
          "execution_count": 35
        }
      ]
    },
    {
      "cell_type": "markdown",
      "source": [
        "Question 1"
      ],
      "metadata": {
        "id": "iVaYMD2-XhBN"
      }
    },
    {
      "cell_type": "code",
      "source": [
        "vectors.dim"
      ],
      "metadata": {
        "colab": {
          "base_uri": "https://localhost:8080/"
        },
        "id": "NIDn0RsUXjbv",
        "outputId": "81877afd-a20a-4043-fea1-2706cc8e31b0"
      },
      "execution_count": 26,
      "outputs": [
        {
          "output_type": "execute_result",
          "data": {
            "text/plain": [
              "300"
            ]
          },
          "metadata": {},
          "execution_count": 26
        }
      ]
    },
    {
      "cell_type": "markdown",
      "source": [
        "**there are 300 dimension of these word embeddings**"
      ],
      "metadata": {
        "id": "3R1QSeRlXuuH"
      }
    },
    {
      "cell_type": "markdown",
      "source": [
        "Question 2"
      ],
      "metadata": {
        "id": "WzSumLTaYF2z"
      }
    },
    {
      "cell_type": "code",
      "source": [
        "vectors.most_similar(\"picnic\",topn=6)"
      ],
      "metadata": {
        "colab": {
          "base_uri": "https://localhost:8080/"
        },
        "id": "Ji4NX1i4YJPJ",
        "outputId": "23aee5da-4304-41f1-a06e-7ec7e3f19d50"
      },
      "execution_count": 33,
      "outputs": [
        {
          "output_type": "execute_result",
          "data": {
            "text/plain": [
              "[('picnics', 0.7400875),\n",
              " ('picnic_lunch', 0.721374),\n",
              " ('Picnic', 0.700534),\n",
              " ('potluck_picnic', 0.6683274),\n",
              " ('picnic_supper', 0.65189123),\n",
              " ('picnicking', 0.63550216)]"
            ]
          },
          "metadata": {},
          "execution_count": 33
        }
      ]
    },
    {
      "cell_type": "markdown",
      "source": [
        "**The top-5 most similar words to picinic is \"picnics\",\"picnic_lunch\",\"potluck_picnic\",\"Picnic_supper\",\"picnicking\"**"
      ],
      "metadata": {
        "id": "3LkDV0CSYUPI"
      }
    },
    {
      "cell_type": "markdown",
      "source": [
        "Question 3"
      ],
      "metadata": {
        "id": "u3W9y3jqY713"
      }
    },
    {
      "cell_type": "code",
      "source": [
        "vectors.doesnt_match(['tissue','papyrus','manila','newsprint','parchment','gazette'])"
      ],
      "metadata": {
        "colab": {
          "base_uri": "https://localhost:8080/",
          "height": 35
        },
        "id": "-gvMj9ueY_KW",
        "outputId": "127d048a-ddb3-4c8f-c3ab-15e921b09f4d"
      },
      "execution_count": 28,
      "outputs": [
        {
          "output_type": "execute_result",
          "data": {
            "text/plain": [
              "'tissue'"
            ],
            "application/vnd.google.colaboratory.intrinsic+json": {
              "type": "string"
            }
          },
          "metadata": {},
          "execution_count": 28
        }
      ]
    },
    {
      "cell_type": "markdown",
      "source": [
        "**tissue is not like the others**"
      ],
      "metadata": {
        "id": "tiLa13KYZgID"
      }
    },
    {
      "cell_type": "markdown",
      "source": [
        "Question 4"
      ],
      "metadata": {
        "id": "4cpoRwk7ZpXw"
      }
    },
    {
      "cell_type": "code",
      "source": [
        "vectors.most_similar(positive=[\"leg\",\"throw\"],negative=[\"jump\"])\n"
      ],
      "metadata": {
        "colab": {
          "base_uri": "https://localhost:8080/"
        },
        "id": "25AXAFaUaRzH",
        "outputId": "588393aa-0ced-4269-eb5c-323352be757c"
      },
      "execution_count": 31,
      "outputs": [
        {
          "output_type": "execute_result",
          "data": {
            "text/plain": [
              "[('forearm', 0.48294652),\n",
              " ('shin', 0.47376165),\n",
              " ('elbow', 0.4679689),\n",
              " ('metacarpal_bone', 0.46781474),\n",
              " ('metacarpal_bones', 0.46605822),\n",
              " ('ankle', 0.46434426),\n",
              " ('shoulder', 0.46183354),\n",
              " ('thigh', 0.45393682),\n",
              " ('knee', 0.4455707),\n",
              " ('ulna_bone', 0.4423491)]"
            ]
          },
          "metadata": {},
          "execution_count": 31
        }
      ]
    },
    {
      "cell_type": "markdown",
      "source": [
        "**leg is to jump as forearm is to throw**"
      ],
      "metadata": {
        "id": "EwW_eA0FasJ7"
      }
    },
    {
      "cell_type": "code",
      "source": [
        "import matplotlib.pyplot as plt\n",
        "name_list = ['forearm','shin','elbow','metacarpal_bone','metacarpal_bones','ankle','shoulder','thigh','knee','ulna_bone']\n",
        "num_list = [0.48294652,0.47376165,0.4679689,0.46781474,0.46605822,0.46434426,0.46183354,0.45393682,0.4455707,0.4423491]\n",
        "plt.bar(range(len(num_list)),num_list,tick_label=name_list)\n",
        "plt.show()\n"
      ],
      "metadata": {
        "colab": {
          "base_uri": "https://localhost:8080/",
          "height": 267
        },
        "id": "_sFrt6p_b68w",
        "outputId": "dfc9954f-715e-4740-e142-c7c2cd5f3684"
      },
      "execution_count": 32,
      "outputs": [
        {
          "output_type": "display_data",
          "data": {
            "text/plain": [
              "<Figure size 432x288 with 1 Axes>"
            ],
            "image/png": "[encoded data removed]"
          },
          "metadata": {
            "needs_background": "light"
          }
        }
      ]
    }
  ]
}